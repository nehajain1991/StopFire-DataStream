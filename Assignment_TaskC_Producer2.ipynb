{
 "cells": [
  {
   "cell_type": "markdown",
   "metadata": {},
   "source": [
    "# Apache Kafka Event Producer 2"
   ]
  },
  {
   "cell_type": "markdown",
   "metadata": {},
   "source": [
    "Submitted by : Mayank Bhardwaj, Neha Jain, Rishupal Singh Chabbra"
   ]
  },
  {
   "cell_type": "markdown",
   "metadata": {},
   "source": [
    "In the below code, we have created an Event Producer using Kafka Producer. This will act as Producer 2 for the streaming data and will randomly produce the data for hotspot_AQUA_streaming.csv every 10-30 seconds. Additionally, sender_id = \"P2\" and created_time = current timestamp is appended to the record so as to identify the producer at the consumer end."
   ]
  },
  {
   "cell_type": "markdown",
   "metadata": {},
   "source": [
    "#### Topic \"climate\" is used for the Kafka stream"
   ]
  },
  {
   "cell_type": "code",
   "execution_count": 1,
   "metadata": {},
   "outputs": [],
   "source": [
    "import sys\n",
    "import time\n",
    "import random\n",
    "import datetime\n",
    "import csv\n",
    "\n",
    "hotspot_aqua = []\n",
    "with open('hotspot_AQUA_streaming.csv') as csv_file:\n",
    "    csv_reader = csv.reader(csv_file,delimiter=',')\n",
    "    headers = next(csv_reader)    #skipping header\n",
    "    for row in csv_reader:\n",
    "        # loading each row as json record and appending to a list so as to send to the consumer\n",
    "        record = {'latitude': row[0]  , \n",
    "                  'longitude': row[1] , \n",
    "                  'confidence': row[2] , \n",
    "                  'surface_temperature_celcius': row[3],\n",
    "                  'sender_id':'P2'\n",
    "            \n",
    "        }\n",
    "        \n",
    "        hotspot_aqua.append(record)"
   ]
  },
  {
   "cell_type": "code",
   "execution_count": 2,
   "metadata": {},
   "outputs": [
    {
     "name": "stdout",
     "output_type": "stream",
     "text": [
      "Publishing records..\n",
      "Message published successfully. Data: {'confidence': '98', 'created_time': '2019-05-28 01:05:59', 'longitude': '145.9519', 'surface_temperature_celcius': '83', 'latitude': '-38.2853', 'sender_id': 'P2'}\n",
      "Message published successfully. Data: {'confidence': '76', 'created_time': '2019-05-28 01:06:22', 'longitude': '141.1987', 'surface_temperature_celcius': '49', 'latitude': '-36.4315', 'sender_id': 'P2'}\n",
      "Message published successfully. Data: {'confidence': '81', 'created_time': '2019-05-28 01:06:50', 'longitude': '143.1431', 'surface_temperature_celcius': '54', 'latitude': '-36.7018', 'sender_id': 'P2'}\n",
      "Message published successfully. Data: {'confidence': '77', 'created_time': '2019-05-28 01:07:06', 'longitude': '142.9716', 'surface_temperature_celcius': '50', 'latitude': '-37.6974', 'sender_id': 'P2'}\n"
     ]
    },
    {
     "ename": "KeyboardInterrupt",
     "evalue": "",
     "output_type": "error",
     "traceback": [
      "\u001b[0;31m---------------------------------------------------------------------------\u001b[0m",
      "\u001b[0;31mKeyboardInterrupt\u001b[0m                         Traceback (most recent call last)",
      "\u001b[0;32m<ipython-input-2-2f1347e07595>\u001b[0m in \u001b[0;36m<module>\u001b[0;34m()\u001b[0m\n\u001b[1;32m     48\u001b[0m             \u001b[0;31m# generating the time interval randomly between 10-30 seconds, both inclusive to send the data\u001b[0m\u001b[0;34m\u001b[0m\u001b[0;34m\u001b[0m\u001b[0m\n\u001b[1;32m     49\u001b[0m             \u001b[0mt\u001b[0m \u001b[0;34m=\u001b[0m \u001b[0mrandom\u001b[0m\u001b[0;34m.\u001b[0m\u001b[0mrandint\u001b[0m\u001b[0;34m(\u001b[0m\u001b[0;36m10\u001b[0m\u001b[0;34m,\u001b[0m\u001b[0;36m31\u001b[0m\u001b[0;34m)\u001b[0m\u001b[0;34m\u001b[0m\u001b[0m\n\u001b[0;32m---> 50\u001b[0;31m             \u001b[0msleep\u001b[0m\u001b[0;34m(\u001b[0m\u001b[0mt\u001b[0m\u001b[0;34m)\u001b[0m  \u001b[0;31m# creating an interval of t seconds to send the data\u001b[0m\u001b[0;34m\u001b[0m\u001b[0m\n\u001b[0m\u001b[1;32m     51\u001b[0m         \u001b[0;32mfinally\u001b[0m\u001b[0;34m:\u001b[0m\u001b[0;34m\u001b[0m\u001b[0m\n\u001b[1;32m     52\u001b[0m             \u001b[0mproducer\u001b[0m\u001b[0;34m.\u001b[0m\u001b[0mclose\u001b[0m\u001b[0;34m(\u001b[0m\u001b[0;34m)\u001b[0m\u001b[0;34m\u001b[0m\u001b[0m\n",
      "\u001b[0;31mKeyboardInterrupt\u001b[0m: "
     ]
    }
   ],
   "source": [
    "# import statements\n",
    "\n",
    "from time import sleep\n",
    "from json import dumps\n",
    "from kafka import KafkaProducer\n",
    "import random\n",
    "import datetime as dt\n",
    "\n",
    "\n",
    "        \n",
    "def publish_message(producer_instance, topic_name, key, data):\n",
    "    try:\n",
    "        key_bytes = bytes(key, encoding='utf-8')  #converting the message to bytes to send\n",
    "        producer_instance.send(topic_name, key=key_bytes, value=data)   #sending the message\n",
    "        producer_instance.flush()   # flushing the producer\n",
    "        print('Message published successfully. Data: ' + str(data))\n",
    "    except Exception as ex:  # exception in case of any issues encounters\n",
    "        print('Exception in publishing message.')\n",
    "        print(str(ex))\n",
    "        \n",
    "def connect_kafka_producer():\n",
    "    _producer = None\n",
    "    try:\n",
    "        # connecting to the Kafka server and creating the KafkaProducer object\n",
    "        _producer = KafkaProducer(bootstrap_servers=['localhost:9092'],\n",
    "                                  value_serializer=lambda x:dumps(x).encode('ascii'),\n",
    "                                  api_version=(0, 10))\n",
    "    except Exception as ex:\n",
    "        print('Exception while connecting Kafka.')\n",
    "        print(str(ex))\n",
    "    finally:\n",
    "        return _producer\n",
    "\n",
    "if __name__ == '__main__':\n",
    "   \n",
    "    topic = 'climate'  #Topic for Kafka is climate\n",
    "    \n",
    "    print('Publishing records..')\n",
    "    while True:\n",
    "        producer = connect_kafka_producer() # connecting to the Kafka and using its object to send messages\n",
    "        \n",
    "        try:\n",
    "            data = hotspot_aqua[random.randrange(len(hotspot_aqua)-1)] # random feeding of the messages\n",
    "            # appending the created_time as current_timestamp\n",
    "            data['created_time']=str(datetime.datetime.now().strftime('%Y-%m-%d %H:%M:%S'))\n",
    "            # publishing the message as json, converted to bytes before sending\n",
    "            publish_message(producer, topic, 'jsondata', data)\n",
    "            # generating the time interval randomly between 10-30 seconds, both inclusive to send the data\n",
    "            t = random.randint(10,31)\n",
    "            sleep(t)  # creating an interval of t seconds to send the data\n",
    "        finally:\n",
    "            producer.close()\n",
    "\n"
   ]
  },
  {
   "cell_type": "code",
   "execution_count": null,
   "metadata": {},
   "outputs": [],
   "source": []
  }
 ],
 "metadata": {
  "kernelspec": {
   "display_name": "Python 3",
   "language": "python",
   "name": "python3"
  },
  "language_info": {
   "codemirror_mode": {
    "name": "ipython",
    "version": 3
   },
   "file_extension": ".py",
   "mimetype": "text/x-python",
   "name": "python",
   "nbconvert_exporter": "python",
   "pygments_lexer": "ipython3",
   "version": "3.5.2"
  }
 },
 "nbformat": 4,
 "nbformat_minor": 2
}
